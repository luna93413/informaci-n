{
 "cells": [
  {
   "cell_type": "markdown",
   "id": "d393f345",
   "metadata": {},
   "source": [
    "# Implementación del algoritmo de Metrópolis para el modelo de Ising 2D con dinámica de Kawasaki\n",
    "\n",
    "El modelo de Ising fue desarrollado para analizar el comportamiento colectivo de los espines en materiales ferromagnéticos y  comprender cómo surgen fenómenos macroscópicos, como la magnetización a partir de interacciones microscópicas entre espines vecinos. En este modelo, \n",
    "los materiales ferromagnéticos se representan como una red de espines, donde cada espín puede tomar dos valores posibles (+1 o -1).\n",
    "\n",
    "\n",
    "En la dinámica de Kawasaki se selecciona aleatoriamente un par de espines vecinos y se intercambian sus valores con una probabilidad de transición de un estado a otro determinada por el criterio de Metrópolis, que depende de la variación de energía asociada al intercambio y de la temperatura del sistema. Esta dinámica se emplea para simular procesos en los que la cantidad de espines positivos y negativos permanece constante  como ocurre en sistemas cerrados. \n",
    "\n",
    "Aunque la magnetización total ha mantenido constante durante la evolución (nula debido a que se ha inicializado a este valor), el sistema puede experimentar una transición de fase cuando la temperatura es inferior a la temperatura crítica. En este régimen, la red se organiza en dominios de espines alineados entre sí, de tamaño comparable y con magnetizaciones opuestas, de modo que la magnetización global sigue siendo nula. \n",
    "\n",
    "## LA OTRA INTRODUCCIÓN \n",
    "En este trabajo se ha implementado el modelo de Ising bidimensional sobre una red cuadrada, representada por una matriz donde el índice de fila ($x$) corresponde a la dirección vertical y el índice de columna ($y$) a la dirección horizontal. Se han impuesto condiciones de contorno periódicas en la dirección $y$ (horizontal), lo que significa que los extremos izquierdo y derecho de la red están conectados entre sí. En la dirección $x$, se han aplicado condiciones de contorno libres, de modo que los espines en la primera y última fila no tienen vecinos fuera de la red. Además, se ha fijado el valor de todos los espines de la primera fila en un sentido y el de la última en sentido opuesto. \n",
    "\n",
    "La dinámica utilizada en la simulación es la dinámica de Kawasaki, que consiste en seleccionar aleatoriamente un par de espines vecinos y proponer su intercambio. Este mecanismo modela la conservación del número de espines positivos y negativos, característica relevante en materiales ferromagnéticos cerrados donde no hay creación ni destrucción de espines, solo desplazamiento. El intercambio se acepta o rechaza según el criterio de Metrópolis, que depende de la variación de energía y la temperatura del sistema.\n",
    "\n",
    "La magnetización inicial de la red se ha fijado en cero, es decir, el número de espines +1 y -1 es igual al comenzar la simulación. Como la dinámica de Kawasaki solo permite intercambios de espines, la magnetización total permanece constante a lo largo de toda la evolución temporal del sistema.\n",
    "\n",
    "Por debajo de la temperatura crítica, el sistema tiende a organizarse en dominios: regiones donde los espines están alineados en la misma dirección. Aunque la magnetización global sigue siendo nula (por conservación), se observan grandes agrupaciones de espines del mismo signo, separadas por fronteras de dominio. Este fenómeno refleja la tendencia de los materiales ferromagnéticos a formar regiones ordenadas a bajas temperaturas, incluso cuando la magnetización total es cero.\n",
    "\n",
    "\n",
    "## Transición Ferromagnética-Paramagnética en sólidos\n",
    " Los materiales ferromagnéticos presentan momentos magnéticos elementales permanentes orientados de forma aleatoria. Estos momentos crean un campo magnético intenso que alinea los momentos magnéticos de los átomos cercanos, dividiendo el metal en diferente dominios según la\n",
    " dirección que los caracterice. Si un campo magnético externo tiende a alinear dichos dominios\n",
    " decimos que el material está magnetizado y permanecerá en dicho estado incluso en ausencia del\n",
    " mismo. \n",
    "\n",
    " Los materiales paramagnéticos tambiém presentan momentos magnéticos permanentes en sus átomos, pero estos generan un campo magnético débil que no afecta a los átomos cercanos. Como resultado, los espines tienden a orientarse de manera aleatoria debido a la agitación térmica, y la magnetización neta del sistema es prácticamente nula en ausencia de un campo externo. \n",
    "\n",
    "En esta práctica comprobaremos que cualquier material ferromagnético se comporta como para\n",
    "magnético a partir de una temperatura crítica , llamada temperatura de Curie.\n",
    "\n",
    "\n",
    "## Dinámica del modelo en función de la temperatura: Energía\n",
    "\n",
    "En el modelo de Ising, la **energía total** viene dada por la interacción de los espines (o momentos magnéticos) con sus vecinos más cercanos. El estado de mínima energía se corresponde con la situación en la que todos los espines se encuentran alineados, mientras que el estado de máxima energía ocurre cuando el sentido de los espines se alterna, es decir, los espines son antiparalelos dos a dos.\n",
    "\n",
    "Se han impuesto **condiciones de contorno periódicas** en la dirección horizontal de la red y **condiciones libres** en la dirección vertical, fijando todos los espines de la primera y la última fila a un sentido único: positivo y negativo, respectivamente.\n",
    "\n",
    "La energía mínima para una red de $N$ espines, en la situación en la que todos ellos se encuentran alineados, viene dada por:\n",
    "\n",
    "$E_{\\text{min}} = -2N^2$\n",
    "\n",
    "Los valores experimentales se compararán con los predichos por esta ecuación para comprobar la validez del código."
   ]
  },
  {
   "cell_type": "markdown",
   "id": "64017c41",
   "metadata": {},
   "source": [
    "## Susceptibilidad magnética \n",
    "\n",
    "La ley de Curie-Weiss describe el comportamiento de la susceptibilidad magnética en materiales ferromagnéticos.\n",
    "\n",
    "$\\chi_m = \\frac{C}{T - T_C}$\n",
    "\n",
    "La ecuación predice que la susceptibilidad magnética diverge cuando la temperatura se aproxima a $T_C$ y decrece con la temperatura. \n",
    "La magnetización media a campo nulo, que se comporta como $M(T, B = 0)$ $\\approx$ $(Tc − T)^(beta)$ para T$\\approx$Tc."
   ]
  },
  {
   "cell_type": "markdown",
   "id": "c7f6e136",
   "metadata": {},
   "source": [
    "## Coste computacional\n",
    "El algoritmo de Metrópolis utilizado tiene la limitación de que los estados que genera no son\n",
    "independientes uno del otro, puesto que cada configuración de espines se genera modificando la anterior. Esto introduce correlaciones entre configuraciones sucesivas, especialmente si se toman datos en cada iteración. Por ello, para muestras estadísticamente independientes hemos tomado los datos solo cada cierto número de iteraciones, lo que ha supuesto un mayor costo computacional .\n",
    "\n",
    "### Cálculo eficiente de la energía\n",
    "\n",
    "> La energía de una configuración en el modelo de Ising bidimensional se calcula mediante la siguiente expresión:\n",
    "\n",
    "$E(S) = -\\frac{1}{2} \\sum_{i=1}^{N} \\sum_{j=1}^{N} s(i, j) \\left[ s(i, j+1) + s(i, j-1) + s(i+1, j) + s(i-1, j) \\right]$\n",
    "\n",
    "donde $s(i, j)$ ) representa el valor del espín en la posición ((i, j)) de la red, y la suma recorre todos los sitios de la red. El factor $\\frac{1}{2}$ evita contar dos veces cada interacción entre pares de espines vecinos. \n",
    "\n",
    "Para reducir el costo computacional en la simulación, no se recalcula la energía total de la red tras cada intercambio de espines. En su lugar, se calcula únicamente la diferencia de energía entre dos configuraciones que difieren solo en el signo de dos espines vecinos (tras realizar el intercambio).\n",
    "\n",
    "Este procedimiento consiste en evaluar la contribución a la energía únicamente de los espines involucrados en el intercambio, es decir, los situados en las posiciones $(x_1, y_1)$ y $(x_2, y_2)$. Para cada uno de estos espines, se consideran únicamente las interacciones con sus vecinos más próximos, excluyendo el espín con el que se ha realizado el intercambio, ya que ese término se anula al calcular la diferencia de energía (dado que el producto de ambos espines cambia de signo pero su contribución neta es la misma antes y después del intercambio).\n",
    "\n",
    "e este modo, para el espín en la posición $(x_1, y_1)$ se suman las interacciones con sus tres vecinos restantes, y lo mismo para el espín en $(x_2, y_2)$. Así, la variación de energía $\\Delta E$ se obtiene de forma eficiente, considerando solo los términos relevantes."
   ]
  },
  {
   "cell_type": "markdown",
   "id": "6274068f",
   "metadata": {},
   "source": [
    "\n",
    "\n",
    "En la implementación en C, la energía total de la configuración se calcula una única vez al inicio de la simulación, utilizando la función `calcularEnergiaConfiguracion`. Posteriormente, tras cada intento de intercambio de espines, **no se recalcula la energía total de la red**, sino que se evalúa únicamente la variación de energía local ($\\Delta E$) asociada al intercambio propuesto. Si el intercambio es aceptado según el criterio de Metrópolis, este incremento $\\Delta E$ se suma (o resta) a la energía actual.\n",
    "\n",
    "\n",
    "Este método evita el costoso recálculo de la energía total en cada paso Montecarlo, mejorando notablemente la eficiencia computacional, especialmente para redes grandes. "
   ]
  },
  {
   "cell_type": "markdown",
   "id": "12d94993",
   "metadata": {},
   "source": [
    "## REESCRITURA\n",
    "En el código C, este procedimiento se implementa en la función `calcularEnergiaLocal`. Cuando se propone intercambiar dos espines vecinos en las posiciones $(x_1, y_1)$ y $(x_2, y_2)$, la función calcula la energía local de ambos espines antes y después del intercambio. Para cada espín, solo se consideran las interacciones con sus vecinos más cercanos, excluyendo al espín con el que se intercambia, ya que la contribución mutua entre ambos se cancela al calcular la diferencia de energía. Así, la variación de energía $\\Delta E$ se obtiene sumando las interacciones de cada espín con sus otros tres vecinos, tanto antes como después del intercambio. Se hacen 6 evaluaciones antes y después del intercambio, en total 12 evaluaciones. Este método permite calcular de manera eficiente el cambio de energía relevante para el criterio de Metrópolis, sin necesidad de recorrer toda la red.\n"
   ]
  },
  {
   "cell_type": "markdown",
   "id": "de538dbc",
   "metadata": {},
   "source": [
    "# Discusión del $C_v$\n",
    "Experimentalmente se ha observado que el valor crítico de la capacidad calorífica crece logarítmicamente con el tamaño del sistema, es decir, $C_c \\sim \\ln N$. Parecería que cuando $N \\to \\infty$ nos acercamos al límite de Onsager, donde $ C \\to \\infty$ cuando $T \\to T_c$. Sin embargo, esto es difícil de lograr en la práctica. \n",
    "Según Onsager, la capacidad calorífica muestra una divergencia logarítmica cuando $T \\to T_{c}$,  es decir, la solución exacta de Onsager para la capacidad calorífica desvela que $ C_v\\sim - \\ln |T - T_c| $ \n",
    "\n",
    ". En el caso de una red finita esto no ocurre; sin embargo, se observa un pico en la curva de la capacidad calorífica en función de la temperatura, el cual se vuelve más agudo a medida que aumenta la dimensión de la red. La altura del pico crece logarítmicamente con la dimensión de la red. \n",
    "\n",
    "\n",
    "## Resumen\n",
    "En el modelo de Ising bidimensional, la capacidad calorífica no diverge realmente para sistemas finitos, sino que su valor máximo crece logarítmicamente con el tamaño de la red. Aunque teóricamente, para un sistema infinito, la capacidad calorífica diverge en la temperatura crítica (solución de Onsager), en la práctica, incluso para sistemas tan grandes como el número de Avogadro, el aumento es modesto. Además, el pico de la capacidad calorífica se vuelve más agudo y se acerca a la temperatura crítica teórica a medida que el sistema crece, pero nunca alcanza una divergencia real para tamaños finitos. Esto implica que, en simulaciones numéricas, siempre habrá una diferencia observable respecto al comportamiento ideal del sistema infinito.\n",
    "\n"
   ]
  },
  {
   "cell_type": "markdown",
   "id": "00e0e692",
   "metadata": {},
   "source": [
    "## COMENTARIOS RESULTADOS EXPERIMENTALES VS PREDICCIÓN TEÓRICA\n",
    "El tamaño finito del sistema implica que no vamos a poder observar\n",
    "de forma exacta el comportamiento descrito por la teoría, ya que en\n",
    "ella los resultados se obtienen tras imponer el límite termodinámico, es\n",
    "decir, el número N de partículas del sistema tiende a ∞. Es por eso\n",
    "que la magnetización se suaviza , lo que hace que la\n",
    "identificación de la temperatura crítica no sea clara\n",
    "\n",
    "Las gráficas se asemejan a lo que\n",
    "habíamos obtenido teóricamente, comprobando que, efectivamente, hay una\n",
    "transición de fase en la zona 2.2 < T < 2.4. Además, en la zona crítica hemos\n",
    "cogido saltos en la temperatura más cortos para obtener un mayor densidad\n",
    "de puntos."
   ]
  },
  {
   "cell_type": "markdown",
   "id": "73959fc7",
   "metadata": {},
   "source": [
    "De hecho, de acuerdo con el artículo \"The Analytical Expressions for a Finite-Size 2D Ising Model\", la diferencia entre la temperatura critica experimental con respecto a la temperatura crítica dada por la solución exacta de Onsager crece como $\\frac{1}{\\sqrt{N}}$, y en el caso del $C_v$ como $\\ln N$. \n",
    "\n",
    "$\\beta_c = \\beta_{\\text{ONS}} \\left( 1 + \\frac{5}{4 \\sqrt{N}} \\right)$\n",
    "\n",
    "$C_c = \\frac{4 \\beta_c^2}{\\pi} \\left( \\ln N - 1.7808 \\right) $"
   ]
  },
  {
   "cell_type": "markdown",
   "id": "dfe16176",
   "metadata": {},
   "source": [
    "\n",
    "Para estimar la incertidumbre de las medidas obtenidas en la simulación, es fundamental calcular la varianza de la magnitud de interés (por ejemplo, energía, magnetización, etc.). La varianza mide la dispersión de los valores respecto a su media y se calcula como:\n",
    "\n",
    "$$ \\sigma^2 \\approx \\frac{1}{N} \\sum_{i=1}^{N} (x_i - \\bar{x})^2 $$\n",
    "\n",
    "donde $x_i$ representa cada una de las medidas individuales, $\\bar{x}$ es el valor medio de la muestra y $N$ es el número total de medidas. Esta fórmula estima la dispersión de los datos respecto a la media.\n",
    "\n",
    "El error estándar de la media (también llamado \"1 sigma\") se obtiene como:\n",
    "\n",
    "$$\n",
    "\\Delta X = \\frac{\\sigma}{\\sqrt{N}}\n",
    "$$\n",
    "\n",
    "donde $N$ es el número de medidas independientes. Este error representa el intervalo de confianza del 68% (aproximadamente) para una distribución normal, es decir, hay un 68% de probabilidad de que el valor real esté dentro de $\\langle X \\rangle \\pm \\Delta X$.\n",
    "\n",
    "- **1 sigma**: Intervalo de confianza del 68,26% ($\\langle X \\rangle \\pm \\Delta X$)\n",
    "- **2 sigmas**: Intervalo de confianza del 95,44% ($\\langle X \\rangle \\pm 2\\Delta X$)\n",
    "- **3 sigmas**: Intervalo de confianza del 99.74% ($\\langle X \\rangle \\pm 3\\Delta X$)\n",
    "\n",
    "Estos intervalos permiten cuantificar la fiabilidad de los resultados numéricos y comparar si las diferencias observadas entre distintas simulaciones o parámetros son estadísticamente significativas.\n"
   ]
  },
  {
   "cell_type": "markdown",
   "id": "2f9898af",
   "metadata": {},
   "source": [
    "# Densidad de partículas promedio en la dirección y en función de la temperatura y para distintos valores de N. \n",
    "En esta sección se analiza la densidad de espines +1 y -1 por fila en función de la temperatura, para diferentes tamaños de red. La densidad de espines positivos se ha calculado como la suma de espines +1 en una fila dividida entre el número total de espines de esa fila, es decir, $\\rho_{+} = \\frac{\\text{número de espines positivos }}{\\text{número total de espines en la fila}}$. De manera análoga, se calcula la densidad de espines negativos. Es importante destacar que la suma de ambas densidades en cada fila es siempre 1. \n",
    "\n",
    "A bajas temperaturas, se observa que la densidad de espines +1 es mucho mayor que la de espines -1. Esto es coherente con el comportamiento del sistema en el régimen ferromagnético, donde la magnetización es máxima y predominan los dominios magnéticos formados por espines alineados del mismo signo ¡. \n",
    "\n",
    "A medida que la temperatura aumenta y el sistema se desordena,  las densidades de espines +1 y -1 tienden a igualarse, aproximándose ambas al valor 1/2. A altas temperaturas, los espines se orientan aleatoriamente y la probabilidad de encontrar un espín +1 o -1 en cualquier posición es prácticamente la misma. Por tanto, en el régimen paramagnético, la densidad de espines positivos y negativos por fila converge a 0.5, confirmando la equiprobabilidad y el desorden característico de este estado.\n",
    "\n",
    "\n"
   ]
  },
  {
   "cell_type": "markdown",
   "id": "e3be6dec",
   "metadata": {},
   "source": [
    "# Energía media por partícula en función de la temperatura para diferentes valores de N. \n",
    "\n",
    "La energía media por partícula $e$ se ha calculado como el valor promedio de la energía total de la configuración dividido entre $2N^2$, es decir:\n",
    "\n",
    "$e = \\frac{\\langle E \\rangle}{2N^2}$\n",
    "\n",
    "donde $\\langle E \\rangle$ es la energía promedio de la configuración y $N$ es la longitud lateral de la red cuadrada. \n",
    "\n"
   ]
  },
  {
   "cell_type": "markdown",
   "id": "9c00b73f",
   "metadata": {},
   "source": [
    "\n",
    "# Bibliografía\n",
    "- Una revisión del modelo de Ising y su aplicación en sociología a través del modelo de Sznajd.  \n",
    "  https://addi.ehu.es/bitstream/handle/10810/30543/TFG_Garcia_Berdote_Asier.pdf?sequence=1&isAllowed=y\n",
    "- The Analytical Expressions for a Finite-Size 2D Ising Model.\n",
    "M.Yu. Malsagov, I.M. Karandashev and B.V. Kryzhanovsky. https://arxiv.org/pdf/1706.02541\n",
    "\n",
    "\n"
   ]
  }
 ],
 "metadata": {
  "kernelspec": {
   "display_name": "Python 3",
   "language": "python",
   "name": "python3"
  },
  "language_info": {
   "codemirror_mode": {
    "name": "ipython",
    "version": 3
   },
   "file_extension": ".py",
   "mimetype": "text/x-python",
   "name": "python",
   "nbconvert_exporter": "python",
   "pygments_lexer": "ipython3",
   "version": "3.11.9"
  }
 },
 "nbformat": 4,
 "nbformat_minor": 5
}
